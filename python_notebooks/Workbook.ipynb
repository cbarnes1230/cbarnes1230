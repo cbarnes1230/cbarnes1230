{
 "cells": [
  {
   "cell_type": "code",
   "execution_count": 94,
   "id": "b6db0727",
   "metadata": {},
   "outputs": [],
   "source": [
    "import altair as alt"
   ]
  },
  {
   "cell_type": "code",
   "execution_count": 95,
   "id": "51113294",
   "metadata": {},
   "outputs": [],
   "source": [
    "click = alt.selection_multi(encodings=['x'])"
   ]
  },
  {
   "cell_type": "code",
   "execution_count": 96,
   "id": "f69b5498",
   "metadata": {},
   "outputs": [
    {
     "data": {
      "text/html": [
       "\n",
       "<style>\n",
       "  #altair-viz-a6452b4d54124c46bc1c6072d166c386.vega-embed {\n",
       "    width: 100%;\n",
       "    display: flex;\n",
       "  }\n",
       "\n",
       "  #altair-viz-a6452b4d54124c46bc1c6072d166c386.vega-embed details,\n",
       "  #altair-viz-a6452b4d54124c46bc1c6072d166c386.vega-embed details summary {\n",
       "    position: relative;\n",
       "  }\n",
       "</style>\n",
       "<div id=\"altair-viz-a6452b4d54124c46bc1c6072d166c386\"></div>\n",
       "<script type=\"text/javascript\">\n",
       "  var VEGA_DEBUG = (typeof VEGA_DEBUG == \"undefined\") ? {} : VEGA_DEBUG;\n",
       "  (function(spec, embedOpt){\n",
       "    let outputDiv = document.currentScript.previousElementSibling;\n",
       "    if (outputDiv.id !== \"altair-viz-a6452b4d54124c46bc1c6072d166c386\") {\n",
       "      outputDiv = document.getElementById(\"altair-viz-a6452b4d54124c46bc1c6072d166c386\");\n",
       "    }\n",
       "    const paths = {\n",
       "      \"vega\": \"https://cdn.jsdelivr.net/npm/vega@5?noext\",\n",
       "      \"vega-lib\": \"https://cdn.jsdelivr.net/npm/vega-lib?noext\",\n",
       "      \"vega-lite\": \"https://cdn.jsdelivr.net/npm/vega-lite@5.15.1?noext\",\n",
       "      \"vega-embed\": \"https://cdn.jsdelivr.net/npm/vega-embed@6?noext\",\n",
       "    };\n",
       "\n",
       "    function maybeLoadScript(lib, version) {\n",
       "      var key = `${lib.replace(\"-\", \"\")}_version`;\n",
       "      return (VEGA_DEBUG[key] == version) ?\n",
       "        Promise.resolve(paths[lib]) :\n",
       "        new Promise(function(resolve, reject) {\n",
       "          var s = document.createElement('script');\n",
       "          document.getElementsByTagName(\"head\")[0].appendChild(s);\n",
       "          s.async = true;\n",
       "          s.onload = () => {\n",
       "            VEGA_DEBUG[key] = version;\n",
       "            return resolve(paths[lib]);\n",
       "          };\n",
       "          s.onerror = () => reject(`Error loading script: ${paths[lib]}`);\n",
       "          s.src = paths[lib];\n",
       "        });\n",
       "    }\n",
       "\n",
       "    function showError(err) {\n",
       "      outputDiv.innerHTML = `<div class=\"error\" style=\"color:red;\">${err}</div>`;\n",
       "      throw err;\n",
       "    }\n",
       "\n",
       "    function displayChart(vegaEmbed) {\n",
       "      vegaEmbed(outputDiv, spec, embedOpt)\n",
       "        .catch(err => showError(`Javascript Error: ${err.message}<br>This usually means there's a typo in your chart specification. See the javascript console for the full traceback.`));\n",
       "    }\n",
       "\n",
       "    if(typeof define === \"function\" && define.amd) {\n",
       "      requirejs.config({paths});\n",
       "      require([\"vega-embed\"], displayChart, err => showError(`Error loading script: ${err.message}`));\n",
       "    } else {\n",
       "      maybeLoadScript(\"vega\", \"5\")\n",
       "        .then(() => maybeLoadScript(\"vega-lite\", \"5.15.1\"))\n",
       "        .then(() => maybeLoadScript(\"vega-embed\", \"6\"))\n",
       "        .catch(showError)\n",
       "        .then(() => displayChart(vegaEmbed));\n",
       "    }\n",
       "  })({\"config\": {\"view\": {\"continuousWidth\": 300, \"continuousHeight\": 300}}, \"data\": {\"url\": \"https://raw.githubusercontent.com/UIUC-iSchool-DataViz/is445_data/main/building_inventory.csv\"}, \"mark\": \"bar\", \"encoding\": {\"color\": {\"condition\": {\"param\": \"param_16\", \"value\": \"blue\"}, \"value\": \"lightgray\"}, \"x\": {\"field\": \"County\", \"type\": \"nominal\"}, \"y\": {\"aggregate\": \"count\", \"field\": \"County\", \"type\": \"quantitative\"}}, \"height\": 300, \"params\": [{\"name\": \"param_16\", \"select\": {\"type\": \"point\", \"encodings\": [\"x\"]}}], \"width\": 1000, \"$schema\": \"https://vega.github.io/schema/vega-lite/v5.15.1.json\"}, {\"mode\": \"vega-lite\"});\n",
       "</script>"
      ],
      "text/plain": [
       "alt.Chart(...)"
      ]
     },
     "execution_count": 96,
     "metadata": {},
     "output_type": "execute_result"
    }
   ],
   "source": [
    "countyChart = alt.Chart.from_dict({\n",
    "  'data': {\"url\": 'https://raw.githubusercontent.com/UIUC-iSchool-DataViz/is445_data/main/building_inventory.csv'\n",
    "  },\n",
    "  'mark': \"bar\",\n",
    "  'height': 300,\n",
    "  'width': 1000,\n",
    "  'encoding': {\n",
    "    \"x\": {\"field\": \"County\", \"type\": \"nominal\"},\n",
    "    \"y\": {\"aggregate\": \"count\", \"field\": \"County\", \"type\": \"quantitative\"},\n",
    "    \"color\": alt.condition(click, alt.value('blue'), alt.value('lightgray'))\n",
    "  }\n",
    "}).add_selection(\n",
    "    click\n",
    ")\n",
    "\n",
    "countyChart"
   ]
  },
  {
   "cell_type": "code",
   "execution_count": 97,
   "id": "106d9c1e",
   "metadata": {},
   "outputs": [],
   "source": [
    "#myJekyllDir = 'C:\\Users\\13312\\OneDrive - University of Illinois - Urbana\\Documents\\Junior\\IS 445\\cbarnes1230.github.io\\assets\\json'\n",
    "myJekyllDir = 'C:/Users/13312/OneDrive - University of Illinois - Urbana/Documents/Junior/IS 445/cbarnes1230.github.io/assets/json/'"
   ]
  },
  {
   "cell_type": "code",
   "execution_count": 98,
   "id": "e9e0bb84",
   "metadata": {},
   "outputs": [],
   "source": [
    "#countyChart.properties(width='container').save(myJekyllDir+\"countyChart.json\")"
   ]
  },
  {
   "cell_type": "code",
   "execution_count": 99,
   "id": "d25af41b",
   "metadata": {},
   "outputs": [
    {
     "data": {
      "text/html": [
       "\n",
       "<style>\n",
       "  #altair-viz-39614b4409a74a43ba503b2627ce8984.vega-embed {\n",
       "    width: 100%;\n",
       "    display: flex;\n",
       "  }\n",
       "\n",
       "  #altair-viz-39614b4409a74a43ba503b2627ce8984.vega-embed details,\n",
       "  #altair-viz-39614b4409a74a43ba503b2627ce8984.vega-embed details summary {\n",
       "    position: relative;\n",
       "  }\n",
       "</style>\n",
       "<div id=\"altair-viz-39614b4409a74a43ba503b2627ce8984\"></div>\n",
       "<script type=\"text/javascript\">\n",
       "  var VEGA_DEBUG = (typeof VEGA_DEBUG == \"undefined\") ? {} : VEGA_DEBUG;\n",
       "  (function(spec, embedOpt){\n",
       "    let outputDiv = document.currentScript.previousElementSibling;\n",
       "    if (outputDiv.id !== \"altair-viz-39614b4409a74a43ba503b2627ce8984\") {\n",
       "      outputDiv = document.getElementById(\"altair-viz-39614b4409a74a43ba503b2627ce8984\");\n",
       "    }\n",
       "    const paths = {\n",
       "      \"vega\": \"https://cdn.jsdelivr.net/npm/vega@5?noext\",\n",
       "      \"vega-lib\": \"https://cdn.jsdelivr.net/npm/vega-lib?noext\",\n",
       "      \"vega-lite\": \"https://cdn.jsdelivr.net/npm/vega-lite@5.15.1?noext\",\n",
       "      \"vega-embed\": \"https://cdn.jsdelivr.net/npm/vega-embed@6?noext\",\n",
       "    };\n",
       "\n",
       "    function maybeLoadScript(lib, version) {\n",
       "      var key = `${lib.replace(\"-\", \"\")}_version`;\n",
       "      return (VEGA_DEBUG[key] == version) ?\n",
       "        Promise.resolve(paths[lib]) :\n",
       "        new Promise(function(resolve, reject) {\n",
       "          var s = document.createElement('script');\n",
       "          document.getElementsByTagName(\"head\")[0].appendChild(s);\n",
       "          s.async = true;\n",
       "          s.onload = () => {\n",
       "            VEGA_DEBUG[key] = version;\n",
       "            return resolve(paths[lib]);\n",
       "          };\n",
       "          s.onerror = () => reject(`Error loading script: ${paths[lib]}`);\n",
       "          s.src = paths[lib];\n",
       "        });\n",
       "    }\n",
       "\n",
       "    function showError(err) {\n",
       "      outputDiv.innerHTML = `<div class=\"error\" style=\"color:red;\">${err}</div>`;\n",
       "      throw err;\n",
       "    }\n",
       "\n",
       "    function displayChart(vegaEmbed) {\n",
       "      vegaEmbed(outputDiv, spec, embedOpt)\n",
       "        .catch(err => showError(`Javascript Error: ${err.message}<br>This usually means there's a typo in your chart specification. See the javascript console for the full traceback.`));\n",
       "    }\n",
       "\n",
       "    if(typeof define === \"function\" && define.amd) {\n",
       "      requirejs.config({paths});\n",
       "      require([\"vega-embed\"], displayChart, err => showError(`Error loading script: ${err.message}`));\n",
       "    } else {\n",
       "      maybeLoadScript(\"vega\", \"5\")\n",
       "        .then(() => maybeLoadScript(\"vega-lite\", \"5.15.1\"))\n",
       "        .then(() => maybeLoadScript(\"vega-embed\", \"6\"))\n",
       "        .catch(showError)\n",
       "        .then(() => displayChart(vegaEmbed));\n",
       "    }\n",
       "  })({\"config\": {\"view\": {\"continuousWidth\": 300, \"continuousHeight\": 300}}, \"data\": {\"url\": \"https://raw.githubusercontent.com/UIUC-iSchool-DataViz/is445_data/main/building_inventory.csv\"}, \"mark\": \"rect\", \"description\": \"Building Square Footage by County\", \"encoding\": {\"color\": {\"aggregate\": \"count\", \"type\": \"quantitative\"}, \"x\": {\"bin\": {\"maxbins\": 40}, \"field\": \"Square Footage\", \"type\": \"quantitative\"}, \"y\": {\"field\": \"County\", \"type\": \"ordinal\"}}, \"height\": 1000, \"width\": 1000, \"$schema\": \"https://vega.github.io/schema/vega-lite/v5.15.1.json\"}, {\"mode\": \"vega-lite\"});\n",
       "</script>"
      ],
      "text/plain": [
       "alt.Chart(...)"
      ]
     },
     "execution_count": 99,
     "metadata": {},
     "output_type": "execute_result"
    }
   ],
   "source": [
    "sqFtRect = alt.Chart.from_dict({  \n",
    "    'data': {\"url\": 'https://raw.githubusercontent.com/UIUC-iSchool-DataViz/is445_data/main/building_inventory.csv'},\n",
    "    'description': \"Building Square Footage by County\",\n",
    "    'height':1000,\n",
    "    'width':1000,\n",
    "    \"mark\": \"rect\",\n",
    "    \"encoding\": {\n",
    "        \"x\":{\"bin\":{\"maxbins\":40}, \n",
    "             \"field\":\"Square Footage\", \"type\":\"quantitative\"},\n",
    "        \"y\":{\"field\":\"County\", \"type\":\"ordinal\"},\n",
    "        \"color\": {\n",
    "                    \"aggregate\": \"count\", \"type\": \"quantitative\"\n",
    "                }\n",
    "    } \n",
    "})\n",
    "\n",
    "sqFtRect"
   ]
  },
  {
   "cell_type": "code",
   "execution_count": 100,
   "id": "58797058",
   "metadata": {},
   "outputs": [
    {
     "data": {
      "text/html": [
       "\n",
       "<style>\n",
       "  #altair-viz-7f5a1b5fa0ef4c24b7fc82531597f842.vega-embed {\n",
       "    width: 100%;\n",
       "    display: flex;\n",
       "  }\n",
       "\n",
       "  #altair-viz-7f5a1b5fa0ef4c24b7fc82531597f842.vega-embed details,\n",
       "  #altair-viz-7f5a1b5fa0ef4c24b7fc82531597f842.vega-embed details summary {\n",
       "    position: relative;\n",
       "  }\n",
       "</style>\n",
       "<div id=\"altair-viz-7f5a1b5fa0ef4c24b7fc82531597f842\"></div>\n",
       "<script type=\"text/javascript\">\n",
       "  var VEGA_DEBUG = (typeof VEGA_DEBUG == \"undefined\") ? {} : VEGA_DEBUG;\n",
       "  (function(spec, embedOpt){\n",
       "    let outputDiv = document.currentScript.previousElementSibling;\n",
       "    if (outputDiv.id !== \"altair-viz-7f5a1b5fa0ef4c24b7fc82531597f842\") {\n",
       "      outputDiv = document.getElementById(\"altair-viz-7f5a1b5fa0ef4c24b7fc82531597f842\");\n",
       "    }\n",
       "    const paths = {\n",
       "      \"vega\": \"https://cdn.jsdelivr.net/npm/vega@5?noext\",\n",
       "      \"vega-lib\": \"https://cdn.jsdelivr.net/npm/vega-lib?noext\",\n",
       "      \"vega-lite\": \"https://cdn.jsdelivr.net/npm/vega-lite@5.15.1?noext\",\n",
       "      \"vega-embed\": \"https://cdn.jsdelivr.net/npm/vega-embed@6?noext\",\n",
       "    };\n",
       "\n",
       "    function maybeLoadScript(lib, version) {\n",
       "      var key = `${lib.replace(\"-\", \"\")}_version`;\n",
       "      return (VEGA_DEBUG[key] == version) ?\n",
       "        Promise.resolve(paths[lib]) :\n",
       "        new Promise(function(resolve, reject) {\n",
       "          var s = document.createElement('script');\n",
       "          document.getElementsByTagName(\"head\")[0].appendChild(s);\n",
       "          s.async = true;\n",
       "          s.onload = () => {\n",
       "            VEGA_DEBUG[key] = version;\n",
       "            return resolve(paths[lib]);\n",
       "          };\n",
       "          s.onerror = () => reject(`Error loading script: ${paths[lib]}`);\n",
       "          s.src = paths[lib];\n",
       "        });\n",
       "    }\n",
       "\n",
       "    function showError(err) {\n",
       "      outputDiv.innerHTML = `<div class=\"error\" style=\"color:red;\">${err}</div>`;\n",
       "      throw err;\n",
       "    }\n",
       "\n",
       "    function displayChart(vegaEmbed) {\n",
       "      vegaEmbed(outputDiv, spec, embedOpt)\n",
       "        .catch(err => showError(`Javascript Error: ${err.message}<br>This usually means there's a typo in your chart specification. See the javascript console for the full traceback.`));\n",
       "    }\n",
       "\n",
       "    if(typeof define === \"function\" && define.amd) {\n",
       "      requirejs.config({paths});\n",
       "      require([\"vega-embed\"], displayChart, err => showError(`Error loading script: ${err.message}`));\n",
       "    } else {\n",
       "      maybeLoadScript(\"vega\", \"5\")\n",
       "        .then(() => maybeLoadScript(\"vega-lite\", \"5.15.1\"))\n",
       "        .then(() => maybeLoadScript(\"vega-embed\", \"6\"))\n",
       "        .catch(showError)\n",
       "        .then(() => displayChart(vegaEmbed));\n",
       "    }\n",
       "  })({\"config\": {\"view\": {\"continuousWidth\": 300, \"continuousHeight\": 300}}, \"hconcat\": [{\"data\": {\"url\": \"https://raw.githubusercontent.com/UIUC-iSchool-DataViz/is445_data/main/building_inventory.csv\"}, \"mark\": \"rect\", \"description\": \"Building Square Footage by County\", \"encoding\": {\"color\": {\"aggregate\": \"count\", \"type\": \"quantitative\"}, \"x\": {\"bin\": {\"maxbins\": 40}, \"field\": \"Square Footage\", \"type\": \"quantitative\"}, \"y\": {\"field\": \"County\", \"type\": \"ordinal\"}}, \"height\": 1000, \"width\": 1000}, {\"data\": {\"url\": \"https://raw.githubusercontent.com/UIUC-iSchool-DataViz/is445_data/main/building_inventory.csv\"}, \"mark\": \"bar\", \"encoding\": {\"color\": {\"condition\": {\"param\": \"param_16\", \"value\": \"blue\"}, \"value\": \"lightgray\"}, \"x\": {\"field\": \"County\", \"type\": \"nominal\"}, \"y\": {\"aggregate\": \"count\", \"field\": \"County\", \"type\": \"quantitative\"}}, \"height\": 300, \"name\": \"view_3\", \"width\": 1000}], \"params\": [{\"name\": \"param_16\", \"select\": {\"type\": \"point\", \"encodings\": [\"x\"]}, \"views\": [\"view_3\"]}], \"$schema\": \"https://vega.github.io/schema/vega-lite/v5.15.1.json\"}, {\"mode\": \"vega-lite\"});\n",
       "</script>"
      ],
      "text/plain": [
       "alt.HConcatChart(...)"
      ]
     },
     "execution_count": 100,
     "metadata": {},
     "output_type": "execute_result"
    }
   ],
   "source": [
    "chart = alt.HConcatChart(hconcat=[sqFtRect, countyChart])\n",
    "chart"
   ]
  },
  {
   "cell_type": "code",
   "execution_count": 101,
   "id": "363f525a",
   "metadata": {},
   "outputs": [],
   "source": [
    "chart.save(myJekyllDir+\"combinedCharts.json\")"
   ]
  },
  {
   "cell_type": "markdown",
   "id": "593df85d",
   "metadata": {},
   "source": [
    "\"For my first visualization, I chose to do a histogram that displays a breakdown of the count of records for each county in the building inventory dataset. For the scales, I chose to just do a standard height of 300, but decided to up the width scale in order to be able to clearly read each of the county names with no overlap. I chose bar marks because they are simple and easy to read and interpret, especially for the goal of this visualization.\"(Homework 7 writeup). I used the graph and same data set that I used in Homework 7, but altered it to get things to work with Altair. I had to alter the first line of code after importing Altair, and also had to alter the last line of the original Homework 7 code, in order to get it to work. For the interactivity of this graph, I used the \"click\" interaction, which allows the user to click on any of the bars in the bar chart and see just that bar highlighted. This allows for easier reading of any specific data that the user may be wanting to look at, without being overwheled by all of the charts. I did not have to alter any data analysis within this dataset. \n",
    "\n",
    "\"For my second visualization, I chose to use the rect vega-lite plot to display the number of buildings in each county distributed by square footage. I decided to use 40 bins in order to distribute the data more granularly. I also increased the height to 1000 to be able to read all of the counties with no overlap, and increased the width to 1000 to give a bigger range of square footage numbers\"(Homeowrk 7 writeup).  I used the graph and same data set that I used in Homework 7, but altered it to get things to work with Altair. I had to alter the first line of code after importing Altair, and also had to alter the last line of the original Homework 7 code, in order to get it to work, just as I did with the first graph. I also combined both graphs in a side by side view so that they could be saved together within my files. \n",
    "\n",
    "Link to the data set used: https://raw.githubusercontent.com/UIUC-iSchool-DataViz/is445_data/main/building_inventory.csv\n",
    "\n",
    "Link to the prep notebook used for reference: https://uiuc-ischool-dataviz.github.io/is445_bcubcg_fall2023/nbv.html?notebook_name=%2Fis445_bcubcg_fall2023%2Fweek10%2FinClass_week10.ipynb\n",
    "\n",
    "Link to Homework 7 referenced: https://starboard.gg/nb/n2P5pOK\n",
    "\n",
    "Source used for interactivity \"click\": https://medium.com/analytics-vidhya/interactive-data-viz-using-altair-873139771fe2"
   ]
  },
  {
   "cell_type": "code",
   "execution_count": null,
   "id": "16bbbffd",
   "metadata": {},
   "outputs": [],
   "source": []
  }
 ],
 "metadata": {
  "kernelspec": {
   "display_name": "Python 3",
   "language": "python",
   "name": "python3"
  },
  "language_info": {
   "codemirror_mode": {
    "name": "ipython",
    "version": 3
   },
   "file_extension": ".py",
   "mimetype": "text/x-python",
   "name": "python",
   "nbconvert_exporter": "python",
   "pygments_lexer": "ipython3",
   "version": "3.8.8"
  }
 },
 "nbformat": 4,
 "nbformat_minor": 5
}
